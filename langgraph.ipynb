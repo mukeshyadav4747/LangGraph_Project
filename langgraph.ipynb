{
 "cells": [
  {
   "cell_type": "code",
   "execution_count": null,
   "id": "3e57754e",
   "metadata": {},
   "outputs": [],
   "source": [
    "from typing import Annotated\n",
    "from typing_extensions import TypedDict\n",
    "from langgraph.graph import StateGraph,START,END\n",
    "from langgraph.graph.message import add_messages"
   ]
  },
  {
   "cell_type": "code",
   "execution_count": 4,
   "id": "f8579bae",
   "metadata": {},
   "outputs": [],
   "source": [
    "class State(TypedDict):\n",
    "    #messages have the type \"list\". The \"add_messages\" function\n",
    "    #in the annotation defines how this state key should be updated\n",
    "    #(in this case, it appends messages to the list, rather than overwriting them)\n",
    "\n",
    "    messages:Annotated[list,add_messages]"
   ]
  },
  {
   "cell_type": "code",
   "execution_count": 5,
   "id": "533a5a02",
   "metadata": {},
   "outputs": [
    {
     "data": {
      "text/plain": [
       "True"
      ]
     },
     "execution_count": 5,
     "metadata": {},
     "output_type": "execute_result"
    }
   ],
   "source": [
    "import os\n",
    "from dotenv import load_dotenv\n",
    "load_dotenv()"
   ]
  },
  {
   "cell_type": "code",
   "execution_count": 6,
   "id": "739234c2",
   "metadata": {},
   "outputs": [],
   "source": [
    "from langchain_groq import ChatGroq\n",
    "from langchain.chat_models import init_chat_model\n",
    "\n",
    "llm = ChatGroq(model=\"llama3-8b-8192\")"
   ]
  },
  {
   "cell_type": "code",
   "execution_count": 7,
   "id": "21c5c1f9",
   "metadata": {},
   "outputs": [
    {
     "data": {
      "text/plain": [
       "ChatGroq(client=<groq.resources.chat.completions.Completions object at 0x000001A910522790>, async_client=<groq.resources.chat.completions.AsyncCompletions object at 0x000001A9108654D0>, model_name='llama3-8b-8192', model_kwargs={}, groq_api_key=SecretStr('**********'))"
      ]
     },
     "execution_count": 7,
     "metadata": {},
     "output_type": "execute_result"
    }
   ],
   "source": [
    "llm"
   ]
  },
  {
   "cell_type": "code",
   "execution_count": 8,
   "id": "0485125a",
   "metadata": {},
   "outputs": [
    {
     "data": {
      "text/plain": [
       "ChatGroq(client=<groq.resources.chat.completions.Completions object at 0x000001A910893190>, async_client=<groq.resources.chat.completions.AsyncCompletions object at 0x000001A910893610>, model_name='llama3-8b-8192', model_kwargs={}, groq_api_key=SecretStr('**********'))"
      ]
     },
     "execution_count": 8,
     "metadata": {},
     "output_type": "execute_result"
    }
   ],
   "source": [
    "llm = init_chat_model(\"groq:llama3-8b-8192\")\n",
    "llm"
   ]
  },
  {
   "cell_type": "code",
   "execution_count": 18,
   "id": "a8f96eb2",
   "metadata": {},
   "outputs": [],
   "source": [
    "# Node Functionality\n",
    "def chatbot(state:State):\n",
    "    return {\"messages\":[llm.invoke(state[\"messages\"])]}"
   ]
  },
  {
   "cell_type": "code",
   "execution_count": 20,
   "id": "bcf5f7a9",
   "metadata": {},
   "outputs": [],
   "source": [
    "graph_builder = StateGraph(State)\n",
    "\n",
    "# Adding node\n",
    "graph_builder.add_node(\"llmchatbot\", chatbot)\n",
    "\n",
    "# Adding Edges\n",
    "graph_builder.add_edge(START,\"llmchatbot\")\n",
    "graph_builder.add_edge(\"llmchatbot\",END)\n",
    "\n",
    "# compile the graph\n",
    "graph= graph_builder.compile()\n"
   ]
  },
  {
   "cell_type": "code",
   "execution_count": 21,
   "id": "b4fe28eb",
   "metadata": {},
   "outputs": [
    {
     "data": {
      "image/png": "[encoded data removed]",
      "text/plain": [
       "<langgraph.graph.state.CompiledStateGraph object at 0x000001A9109216D0>"
      ]
     },
     "execution_count": 21,
     "metadata": {},
     "output_type": "execute_result"
    }
   ],
   "source": [
    "graph"
   ]
  },
  {
   "cell_type": "code",
   "execution_count": 22,
   "id": "0c48d9c8",
   "metadata": {},
   "outputs": [],
   "source": [
    "response = graph.invoke({\"messages\":\"Hii\"})"
   ]
  },
  {
   "cell_type": "code",
   "execution_count": 23,
   "id": "579d6de6",
   "metadata": {},
   "outputs": [
    {
     "data": {
      "text/plain": [
       "{'messages': [HumanMessage(content='Hii', additional_kwargs={}, response_metadata={}, id='8377724d-9238-46aa-9117-eecf67d01240'),\n",
       "  AIMessage(content='Hii! How are you today?', additional_kwargs={}, response_metadata={'token_usage': {'completion_tokens': 9, 'prompt_tokens': 12, 'total_tokens': 21, 'completion_time': 0.026379698, 'prompt_time': 0.006538736, 'queue_time': 0.26679457300000003, 'total_time': 0.032918434}, 'model_name': 'llama3-8b-8192', 'system_fingerprint': 'fp_8dc6ecaf8e', 'finish_reason': 'stop', 'logprobs': None}, id='run--4c3988cd-7628-47c0-a20f-a3e69866ee15-0', usage_metadata={'input_tokens': 12, 'output_tokens': 9, 'total_tokens': 21})]}"
      ]
     },
     "execution_count": 23,
     "metadata": {},
     "output_type": "execute_result"
    }
   ],
   "source": [
    "response"
   ]
  },
  {
   "cell_type": "code",
   "execution_count": 25,
   "id": "b9881da3",
   "metadata": {},
   "outputs": [
    {
     "data": {
      "text/plain": [
       "'Hii! How are you today?'"
      ]
     },
     "execution_count": 25,
     "metadata": {},
     "output_type": "execute_result"
    }
   ],
   "source": [
    "response[\"messages\"][-1].content"
   ]
  },
  {
   "cell_type": "code",
   "execution_count": 26,
   "id": "4c555874",
   "metadata": {},
   "outputs": [
    {
     "name": "stdout",
     "output_type": "stream",
     "text": [
      "I'm just an AI, I don't have feelings or emotions like humans do, so I don't have a good or bad day. I'm just here to help answer your questions and provide information to the best of my ability! How can I assist you today?\n"
     ]
    }
   ],
   "source": [
    "for event in graph.stream({\"messages\":\"Hi How are you?\"}):\n",
    "    for value in event.values():\n",
    "        print(value[\"messages\"][-1].content)"
   ]
  },
  {
   "cell_type": "markdown",
   "id": "2faf6ac9",
   "metadata": {},
   "source": [
    "#Chatbot with tool"
   ]
  },
  {
   "cell_type": "code",
   "execution_count": 27,
   "id": "66923609",
   "metadata": {},
   "outputs": [
    {
     "data": {
      "text/plain": [
       "{'query': 'what is Bank of baroda',\n",
       " 'follow_up_questions': None,\n",
       " 'answer': None,\n",
       " 'images': [],\n",
       " 'results': [{'title': 'Bank of Baroda - Wikipedia',\n",
       "   'url': 'https://en.wikipedia.org/wiki/Bank_of_Baroda',\n",
       "   'content': 'Bank of Baroda (BOB or BoB) is an Indian government Public sector bank headquartered in Vadodara, Gujarat. It is the third largest public sector bank in India after State Bank of India.',\n",
       "   'score': 0.9467988,\n",
       "   'raw_content': None},\n",
       "  {'title': 'What is Brief History of Bank of Baroda Company?',\n",
       "   'url': 'https://canvasbusinessmodel.com/blogs/brief-history/bank-of-baroda-brief-history',\n",
       "   'content': \"The Bank of Baroda, one of India's oldest and most respected financial institutions, has a rich history dating back to 1908. Founded by the Maharaja of Baroda, Sir Sayajirao Gaekwad III, the bank has grown from its humble beginnings in Baroda to become a global presence with a wide range of financial services. With a legacy of innovation and customer-centric approach, Bank of Baroda has stood\",\n",
       "   'score': 0.8742601,\n",
       "   'raw_content': None},\n",
       "  {'title': 'A Saga of Vision and Enterprise - Bank of Baroda',\n",
       "   'url': 'https://www.bankofbaroda.in/about-us/overview',\n",
       "   'content': 'Starting in 1908 from a small building in Baroda to its new hi-rise and hi-tech Baroda Corporate Centre in Mumbai, is a saga of vision, enterprise, financial prudence and corporate governance. It is a story scripted in corporate wisdom and social pride. It is a story crafted in private capital, princely patronage and state ownership.',\n",
       "   'score': 0.7515939,\n",
       "   'raw_content': None}],\n",
       " 'response_time': 1.75}"
      ]
     },
     "execution_count": 27,
     "metadata": {},
     "output_type": "execute_result"
    }
   ],
   "source": [
    "from langchain_tavily import TavilySearch\n",
    "tool = TavilySearch(max_results=3)\n",
    "tool.invoke(\"what is Bank of baroda\")"
   ]
  },
  {
   "cell_type": "code",
   "execution_count": 28,
   "id": "2cc3d2ab",
   "metadata": {},
   "outputs": [],
   "source": [
    "# custom function\n",
    "\n",
    "def addition(a:int,b:int):\n",
    "    \"\"\"Add a and b\n",
    "    Args:\n",
    "    a(int): first int\n",
    "    b(int): second int\n",
    "    Returns:\n",
    "    int: output int\"\"\"\n",
    "    return a+b"
   ]
  },
  {
   "cell_type": "code",
   "execution_count": 29,
   "id": "d6a0b439",
   "metadata": {},
   "outputs": [],
   "source": [
    "tools = [tool,addition]"
   ]
  },
  {
   "cell_type": "code",
   "execution_count": 30,
   "id": "70fd05d4",
   "metadata": {},
   "outputs": [],
   "source": [
    "llm_with_tool= llm.bind_tools(tools)\n"
   ]
  },
  {
   "cell_type": "code",
   "execution_count": 40,
   "id": "6027cdae",
   "metadata": {},
   "outputs": [
    {
     "data": {
      "text/plain": [
       "RunnableBinding(bound=ChatGroq(client=<groq.resources.chat.completions.Completions object at 0x000001A910893190>, async_client=<groq.resources.chat.completions.AsyncCompletions object at 0x000001A910893610>, model_name='llama3-8b-8192', model_kwargs={}, groq_api_key=SecretStr('**********')), kwargs={'tools': [{'type': 'function', 'function': {'name': 'tavily_search', 'description': 'A search engine optimized for comprehensive, accurate, and trusted results. Useful for when you need to answer questions about current events. It not only retrieves URLs and snippets, but offers advanced search depths, domain management, time range filters, and image search, this tool delivers real-time, accurate, and citation-backed results.Input should be a search query.', 'parameters': {'properties': {'query': {'description': 'Search query to look up', 'type': 'string'}, 'include_domains': {'anyOf': [{'items': {'type': 'string'}, 'type': 'array'}, {'type': 'null'}], 'default': [], 'description': 'A list of domains to restrict search results to.\\n\\n        Use this parameter when:\\n        1. The user explicitly requests information from specific websites (e.g., \"Find climate data from nasa.gov\")\\n        2. The user mentions an organization or company without specifying the domain (e.g., \"Find information about iPhones from Apple\")\\n\\n        In both cases, you should determine the appropriate domains (e.g., [\"nasa.gov\"] or [\"apple.com\"]) and set this parameter.\\n\\n        Results will ONLY come from the specified domains - no other sources will be included.\\n        Default is None (no domain restriction).\\n        '}, 'exclude_domains': {'anyOf': [{'items': {'type': 'string'}, 'type': 'array'}, {'type': 'null'}], 'default': [], 'description': 'A list of domains to exclude from search results.\\n\\n        Use this parameter when:\\n        1. The user explicitly requests to avoid certain websites (e.g., \"Find information about climate change but not from twitter.com\")\\n        2. The user mentions not wanting results from specific organizations without naming the domain (e.g., \"Find phone reviews but nothing from Apple\")\\n\\n        In both cases, you should determine the appropriate domains to exclude (e.g., [\"twitter.com\"] or [\"apple.com\"]) and set this parameter.\\n\\n        Results will filter out all content from the specified domains.\\n        Default is None (no domain exclusion).\\n        '}, 'search_depth': {'anyOf': [{'enum': ['basic', 'advanced'], 'type': 'string'}, {'type': 'null'}], 'default': 'basic', 'description': 'Controls search thoroughness and result comprehensiveness.\\n    \\n        Use \"basic\" for simple queries requiring quick, straightforward answers.\\n        \\n        Use \"advanced\" (default) for complex queries, specialized topics, \\n        rare information, or when in-depth analysis is needed.\\n        '}, 'include_images': {'anyOf': [{'type': 'boolean'}, {'type': 'null'}], 'default': False, 'description': 'Determines if the search returns relevant images along with text results.\\n   \\n        Set to True when the user explicitly requests visuals or when images would \\n        significantly enhance understanding (e.g., \"Show me what black holes look like,\" \\n        \"Find pictures of Renaissance art\").\\n        \\n        Leave as False (default) for most informational queries where text is sufficient.\\n        '}, 'time_range': {'anyOf': [{'enum': ['day', 'week', 'month', 'year'], 'type': 'string'}, {'type': 'null'}], 'default': None, 'description': 'Limits results to content published within a specific timeframe.\\n        \\n        ONLY set this when the user explicitly mentions a time period \\n        (e.g., \"latest AI news,\" \"articles from last week\").\\n        \\n        For less popular or niche topics, use broader time ranges \\n        (\"month\" or \"year\") to ensure sufficient relevant results.\\n   \\n        Options: \"day\" (24h), \"week\" (7d), \"month\" (30d), \"year\" (365d).\\n        \\n        Default is None.\\n        '}, 'topic': {'anyOf': [{'enum': ['general', 'news', 'finance'], 'type': 'string'}, {'type': 'null'}], 'default': 'general', 'description': 'Specifies search category for optimized results.\\n   \\n        Use \"general\" (default) for most queries, INCLUDING those with terms like \\n        \"latest,\" \"newest,\" or \"recent\" when referring to general information.\\n\\n        Use \"finance\" for markets, investments, economic data, or financial news.\\n\\n        Use \"news\" ONLY for politics, sports, or major current events covered by \\n        mainstream media - NOT simply because a query asks for \"new\" information.\\n        '}}, 'required': ['query'], 'type': 'object'}}}, {'type': 'function', 'function': {'name': 'addition', 'description': 'Add a and b\\nArgs:\\na(int): first int\\nb(int): second int\\nReturns:\\nint: output int', 'parameters': {'properties': {'a': {'type': 'integer'}, 'b': {'type': 'integer'}}, 'required': ['a', 'b'], 'type': 'object'}}}]}, config={}, config_factories=[])"
      ]
     },
     "execution_count": 40,
     "metadata": {},
     "output_type": "execute_result"
    }
   ],
   "source": [
    "llm_with_tool"
   ]
  },
  {
   "cell_type": "code",
   "execution_count": 41,
   "id": "2ef502a9",
   "metadata": {},
   "outputs": [
    {
     "data": {
      "image/png": "[encoded data removed]",
      "text/plain": [
       "<IPython.core.display.Image object>"
      ]
     },
     "metadata": {},
     "output_type": "display_data"
    }
   ],
   "source": [
    "#  Stategraph\n",
    "\n",
    "from langgraph.graph import StateGraph,START,END\n",
    "from langgraph.prebuilt import ToolNode\n",
    "from langgraph.prebuilt import tools_condition\n",
    "\n",
    "## Node definition\n",
    "def tool_calling_llm(state:State):\n",
    "    return {\"messages\":[llm_with_tool.invoke(state[\"messages\"])]}\n",
    "\n",
    "## Grpah\n",
    "builder=StateGraph(State)\n",
    "builder.add_node(\"tool_calling_llm\",tool_calling_llm)\n",
    "builder.add_node(\"tools\",ToolNode(tools))\n",
    "\n",
    "## Add Edges\n",
    "builder.add_edge(START, \"tool_calling_llm\")\n",
    "builder.add_conditional_edges(\n",
    "    \"tool_calling_llm\",\n",
    "    # If the latest message (result) from assistant is a tool call -> tools_condition routes to tools\n",
    "    # If the latest message (result) from assistant is a not a tool call -> tools_condition routes to END\n",
    "    tools_condition\n",
    ")\n",
    "builder.add_edge(\"tools\",END)\n",
    "\n",
    "## compile the graph\n",
    "graph=builder.compile()\n",
    "\n",
    "from IPython.display import Image, display\n",
    "display(Image(graph.get_graph().draw_mermaid_png()))\n"
   ]
  },
  {
   "cell_type": "code",
   "execution_count": 44,
   "id": "0b6cec2f",
   "metadata": {},
   "outputs": [],
   "source": [
    "response = graph.invoke({\"messages\":\"What is the recent repo rate of RBI?\"})"
   ]
  },
  {
   "cell_type": "code",
   "execution_count": 45,
   "id": "43ccbd74",
   "metadata": {},
   "outputs": [
    {
     "data": {
      "text/plain": [
       "'{\"query\": \"recent repo rate of RBI\", \"follow_up_questions\": null, \"answer\": null, \"images\": [], \"results\": [{\"url\": \"https://www.wsj.com/articles/india-central-bank-delivers-larger-than-expected-rate-cut-to-support-growth-758de28c?gaa_at=eafs&gaa_n=ASWzDAjlGqkWAdp3hMSXiWx182gH3dsjkRCQZUsUO9c-xVl1tF_NjVGo2vGO&gaa_ts=6863f1f3&gaa_sig=BKAhxOL90LF-IKxCfL8BqGp82o8i_l7OGO4TD6hRV2xzk_Yj7Q8_BID4LgqrHeYqMhFVWeMoFgvN-IUrqlFjew%3D%3D\", \"title\": \"India Central Bank Delivers Larger-Than-Expected Rate ...\", \"content\": \"The Reserve Bank of India\\'s monetary policy committee voted Friday to lower the benchmark repo rate to 5.50% from 6.00%, delivering a deeper cut\", \"score\": 0.5971152, \"raw_content\": null}, {\"url\": \"https://sg.finance.yahoo.com/news/india-cenbank-announces-reverse-repo-125248224.html\", \"title\": \"India cenbank announces reverse repo to arrest fall in ...\", \"content\": \"MUMBAI (Reuters) -India\\'s central bank said on Tuesday it will conduct a seven-day variable rate reverse repo auction worth one trillion rupees\", \"score\": 0.20544, \"raw_content\": null}, {\"url\": \"https://www.bloomberg.com/news/articles/2025-06-06/india-s-central-bank-lowers-key-rate-to-5-5-in-surprise-move\", \"title\": \"India\\'s Central Bank Surprises With Big Rate Cut, Cash Boost\", \"content\": \"The central bank lowered the cash reserve ratio — the amount banks need to hold with the RBI — by 100 basis points to 3% in a staggered manner\", \"score\": 0.11549125, \"raw_content\": null}], \"response_time\": 1.51}'"
      ]
     },
     "execution_count": 45,
     "metadata": {},
     "output_type": "execute_result"
    }
   ],
   "source": [
    "response['messages'][-1].content"
   ]
  },
  {
   "cell_type": "code",
   "execution_count": 49,
   "id": "94221281",
   "metadata": {},
   "outputs": [],
   "source": [
    "response = graph.invoke({\"messages\": \"what is 5 add 2 ?\"})"
   ]
  },
  {
   "cell_type": "code",
   "execution_count": 48,
   "id": "b113f3c4",
   "metadata": {},
   "outputs": [
    {
     "data": {
      "text/plain": [
       "{'messages': [HumanMessage(content='what is 5 add 2 ?', additional_kwargs={}, response_metadata={}, id='c757f112-0035-4f6e-9dc2-21bdf3edee02'),\n",
       "  AIMessage(content='', additional_kwargs={'tool_calls': [{'id': 'y8j3wxcrr', 'function': {'arguments': '{\"a\":5,\"b\":2}', 'name': 'addition'}, 'type': 'function'}]}, response_metadata={'token_usage': {'completion_tokens': 73, 'prompt_tokens': 2203, 'total_tokens': 2276, 'completion_time': 0.078032876, 'prompt_time': 0.244221239, 'queue_time': 0.274711559, 'total_time': 0.322254115}, 'model_name': 'llama3-8b-8192', 'system_fingerprint': 'fp_8b7c3a83f7', 'finish_reason': 'tool_calls', 'logprobs': None}, id='run--60aa4db8-a5d8-401a-b999-77fce4800192-0', tool_calls=[{'name': 'addition', 'args': {'a': 5, 'b': 2}, 'id': 'y8j3wxcrr', 'type': 'tool_call'}], usage_metadata={'input_tokens': 2203, 'output_tokens': 73, 'total_tokens': 2276}),\n",
       "  ToolMessage(content='7', name='addition', id='3b56db55-59d6-4008-a73a-d4120838bcfc', tool_call_id='y8j3wxcrr')]}"
      ]
     },
     "execution_count": 48,
     "metadata": {},
     "output_type": "execute_result"
    }
   ],
   "source": [
    "response"
   ]
  },
  {
   "cell_type": "code",
   "execution_count": 50,
   "id": "5cc3e945",
   "metadata": {},
   "outputs": [
    {
     "name": "stdout",
     "output_type": "stream",
     "text": [
      "================================\u001b[1m Human Message \u001b[0m=================================\n",
      "\n",
      "what is 5 add 2 ?\n",
      "==================================\u001b[1m Ai Message \u001b[0m==================================\n",
      "Tool Calls:\n",
      "  addition (cn8mf4k0g)\n",
      " Call ID: cn8mf4k0g\n",
      "  Args:\n",
      "    a: 5\n",
      "    b: 2\n",
      "=================================\u001b[1m Tool Message \u001b[0m=================================\n",
      "Name: addition\n",
      "\n",
      "7\n"
     ]
    }
   ],
   "source": [
    "for i in response['messages']:\n",
    "    i.pretty_print()"
   ]
  },
  {
   "cell_type": "code",
   "execution_count": 52,
   "id": "355be788",
   "metadata": {},
   "outputs": [
    {
     "name": "stdout",
     "output_type": "stream",
     "text": [
      "================================\u001b[1m Human Message \u001b[0m=================================\n",
      "\n",
      "Give me the recent ai news and then 45 add 34\n",
      "==================================\u001b[1m Ai Message \u001b[0m==================================\n",
      "Tool Calls:\n",
      "  tavily_search (fsmzehwcf)\n",
      " Call ID: fsmzehwcf\n",
      "  Args:\n",
      "    query: recent ai news\n",
      "    search_depth: advanced\n",
      "    time_range: week\n",
      "  addition (n1zbf37y3)\n",
      " Call ID: n1zbf37y3\n",
      "  Args:\n",
      "    a: 45\n",
      "    b: 34\n",
      "=================================\u001b[1m Tool Message \u001b[0m=================================\n",
      "Name: tavily_search\n",
      "\n",
      "{\"query\": \"recent ai news\", \"follow_up_questions\": null, \"answer\": null, \"images\": [], \"results\": [{\"url\": \"https://www.ptechpartners.com/2025/07/01/emerging-ai-news-roundup-for-may-and-june-2025-part-1-ai-agents-jobs-impact-and-the-return-of-the-surge/\", \"title\": \"Emerging AI News Roundup for May and June 2025 Part 1\", \"content\": \"Explore the biggest AI news from May and June 2025, including breakthroughs in AI agents, the evolving impact on jobs, and a renewed surge in AI innovation.\", \"score\": 0.77913743, \"raw_content\": null}, {\"url\": \"https://appinventiv.com/blog/ai-trends/\", \"title\": \"Top AI Trends 2025: Key Developments to Watch - Appinventiv\", \"content\": \"For instance, according to recent news by Aol, Zapata and D-Wave have partnered to advance the integration of quantum AI. This collaboration aims to accelerate the development and deployment of integrated quantum and generative AI solutions on D-Wave’s Leap cloud platform.\\n\\nDive into the latest AI trends and elevate your business for growth and innovation today.\\n\\n[Explore Our AI Development Services]\\n\\n## Power of AI Trends When Combined with Other Emerging Technologies [...] Also, Meta has recently introduced five significant new AI models and research initiatives. These include multi-modal systems capable of processing both text and images, advanced language models, music generation technology, AI speech detection, and initiatives to enhance diversity in AI systems.\\n\\n### Digital Twins [...] Recently, Amazon expanded its portfolio of free training courses by launching new generative AI-focused programs. This initiative is part of Amazon’s broader “AI Ready” program, which aims to provide free AI skills training to 2 million people worldwide by 2025.\\n\\n### Shadow AI\", \"score\": 0.7515939, \"raw_content\": null}, {\"url\": \"https://ts2.tech/en/latest-developments-in-ai-june-july-2025/\", \"title\": \"Latest Developments in AI (June–July 2025) - TS2 Space\", \"content\": \"Gartner Inc. issued a striking forecast that global spending on generative AI would reach $644 billion in 2025, a 76% increase over the prior year reuters.com.\", \"score\": 0.7043437, \"raw_content\": null}], \"response_time\": 3.15}\n",
      "=================================\u001b[1m Tool Message \u001b[0m=================================\n",
      "Name: addition\n",
      "\n",
      "79\n"
     ]
    }
   ],
   "source": [
    "response = graph.invoke({\"messages\":\"Give me the recent ai news and then 45 add 34\"})\n",
    "for i in response['messages']:\n",
    "    i.pretty_print()"
   ]
  },
  {
   "cell_type": "markdown",
   "id": "917dae2f",
   "metadata": {},
   "source": [
    "# ReAct Agent Architecture\n",
    "\n",
    "In LangGraph, a ReAct (Reasoning and Acting) agent architecture combines a Large Language Model (LLM) with the ability to reason, act, and observe its environment, enabling it to solve complex tasks and utilize external tools. The ReAct pattern allows the agent to dynamically adjust its approach based on new information and results from previous steps, similar to how humans solve problems. Here's a breakdown of the key concepts:\n",
    "\n",
    "ReAct Framework: Reasoning: The LLM uses its reasoning capabilities to determine the next course of action. Acting: The agent can call tools, such as web searches or APIs, to gather information or perform actions. Observing: The agent analyzes the results of its actions to refine its reasoning and determine the next step.\n",
    "LangGraph Implementation: Graph Structure: LangGraph uses a graph-based structure to represent the agent's workflow. Nodes in the graph represent different states or actions, and edges represent the transitions between them. State Management: The \"state\" feature in LangGraph acts as a memory bank, recording the agent's history and context throughout the process. Tool Calling: LangGraph provides tools for integrating various tools into the agent, including prebuilt LangChain tools like Wikipedia or DuckDuckGo, or custom-built tools. Conditional Edges: Edges can be conditional, allowing the agent to branch based on the results of previous steps and choose the appropriate next action.\n",
    "How it Works: The agent starts with an initial input and a reasoning phase. The LLM generates a thought, an action, and potentially a tool call based on the input and current state. The agent executes the action, potentially using a tool. The agent observes the results and updates its state. The agent repeats the reasoning, acting, and observing cycle until it reaches a conclusion or a predefined stopping condition."
   ]
  },
  {
   "cell_type": "code",
   "execution_count": 57,
   "id": "6756d912",
   "metadata": {},
   "outputs": [
    {
     "data": {
      "image/png": "[encoded data removed]",
      "text/plain": [
       "<IPython.core.display.Image object>"
      ]
     },
     "metadata": {},
     "output_type": "display_data"
    }
   ],
   "source": [
    "# Stategraph\n",
    "from langgraph.graph import StateGraph,START,END\n",
    "from langgraph.prebuilt import ToolNode\n",
    "from langgraph.prebuilt import tools_condition\n",
    "\n",
    "# Node definition\n",
    "def tool_calling_llm(state:State):\n",
    "    return {\"messages\":[llm_with_tool.invoke(state[\"messages\"])]}\n",
    "\n",
    "#Graph\n",
    "builder = StateGraph(State)\n",
    "builder.add_node(\"tool_calling_llm\",tool_calling_llm)\n",
    "builder.add_node(\"tools\",ToolNode(tools))\n",
    "\n",
    "# Add Edges\n",
    "builder.add_edge(START,\"tool_calling_llm\")\n",
    "builder.add_conditional_edges(\"tool_calling_llm\", tools_condition)\n",
    "\n",
    "builder.add_edge(\"tools\",\"tool_calling_llm\")\n",
    "\n",
    "## compile the graph\n",
    "graph=builder.compile()\n",
    "\n",
    "from IPython.display import Image,display\n",
    "display(Image(graph.get_graph().draw_mermaid_png()))\n"
   ]
  },
  {
   "cell_type": "markdown",
   "id": "d4c58c4a",
   "metadata": {},
   "source": [
    "# Adding Memory in Agentic Graph"
   ]
  },
  {
   "cell_type": "code",
   "execution_count": 58,
   "id": "1ffcb57f",
   "metadata": {},
   "outputs": [
    {
     "name": "stdout",
     "output_type": "stream",
     "text": [
      "================================\u001b[1m Human Message \u001b[0m=================================\n",
      "\n",
      "Hello my name is Mukesh Yadav\n",
      "==================================\u001b[1m Ai Message \u001b[0m==================================\n",
      "\n",
      "Nice to meet you, Mukesh!\n"
     ]
    }
   ],
   "source": [
    "response= graph.invoke({\"messages\":\"Hello my name is Mukesh Yadav\"})\n",
    "for i in response['messages']:\n",
    "    i.pretty_print()"
   ]
  },
  {
   "cell_type": "code",
   "execution_count": 63,
   "id": "f9f7b252",
   "metadata": {},
   "outputs": [
    {
     "data": {
      "image/png": "[encoded data removed]",
      "text/plain": [
       "<IPython.core.display.Image object>"
      ]
     },
     "metadata": {},
     "output_type": "display_data"
    }
   ],
   "source": [
    "# Stategraph\n",
    "from langgraph.graph import StateGraph,START,END\n",
    "from langgraph.prebuilt import ToolNode\n",
    "from langgraph.prebuilt import tools_condition\n",
    "from langgraph.checkpoint.memory import MemorySaver\n",
    "\n",
    "memory = MemorySaver()\n",
    "\n",
    "## Node definition\n",
    "def tool_calling_llm(state:State):\n",
    "    return {\"messages\":[llm_with_tool.invoke(state[\"messages\"])]}\n",
    "\n",
    "## Grpah\n",
    "builder=StateGraph(State)\n",
    "builder.add_node(\"tool_calling_llm\",tool_calling_llm)\n",
    "builder.add_node(\"tools\",ToolNode(tools))\n",
    "\n",
    "## Add Edges\n",
    "builder.add_edge(START, \"tool_calling_llm\")\n",
    "builder.add_conditional_edges(\n",
    "    \"tool_calling_llm\",\n",
    "    # If the latest message (result) from assistant is a tool call -> tools_condition routes to tools\n",
    "    # If the latest message (result) from assistant is a not a tool call -> tools_condition routes to END\n",
    "    tools_condition\n",
    ")\n",
    "builder.add_edge(\"tools\",\"tool_calling_llm\")\n",
    "\n",
    "## compile the graph\n",
    "graph=builder.compile(checkpointer=memory)\n",
    "\n",
    "from IPython.display import Image, display\n",
    "display(Image(graph.get_graph().draw_mermaid_png()))\n"
   ]
  },
  {
   "cell_type": "code",
   "execution_count": 64,
   "id": "c4e7b5b7",
   "metadata": {},
   "outputs": [
    {
     "data": {
      "text/plain": [
       "{'messages': [HumanMessage(content='Hi my name is Mukesh Yadav', additional_kwargs={}, response_metadata={}, id='1351b54d-b44f-47c4-abd2-b010fd3fb9e5'),\n",
       "  AIMessage(content='Nice to meet you, Mukesh Yadav!', additional_kwargs={}, response_metadata={'token_usage': {'completion_tokens': 11, 'prompt_tokens': 4425, 'total_tokens': 4436, 'completion_time': 0.009431073, 'prompt_time': 0.491991189, 'queue_time': -0.585290355, 'total_time': 0.501422262}, 'model_name': 'llama3-8b-8192', 'system_fingerprint': 'fp_8b7c3a83f7', 'finish_reason': 'stop', 'logprobs': None}, id='run--c0ac89b0-e9d5-458c-ac55-0e79834d0985-0', usage_metadata={'input_tokens': 4425, 'output_tokens': 11, 'total_tokens': 4436})]}"
      ]
     },
     "execution_count": 64,
     "metadata": {},
     "output_type": "execute_result"
    }
   ],
   "source": [
    "config={\"configurable\":{\"thread_id\":\"1\"}}\n",
    "response= graph.invoke({\"messages\":\"Hi my name is Mukesh Yadav\"}, config= config)\n",
    "response"
   ]
  },
  {
   "cell_type": "code",
   "execution_count": 65,
   "id": "48f811ba",
   "metadata": {},
   "outputs": [
    {
     "data": {
      "text/plain": [
       "'Nice to meet you, Mukesh Yadav!'"
      ]
     },
     "execution_count": 65,
     "metadata": {},
     "output_type": "execute_result"
    }
   ],
   "source": [
    "response['messages'][-1].content"
   ]
  },
  {
   "cell_type": "code",
   "execution_count": 66,
   "id": "a8fea2db",
   "metadata": {},
   "outputs": [
    {
     "name": "stdout",
     "output_type": "stream",
     "text": [
      "Your name is Mukesh Yadav.\n"
     ]
    }
   ],
   "source": [
    "response=graph.invoke({\"messages\":\"Hey what is my name\"},config=config)\n",
    "print(response['messages'][-1].content)"
   ]
  },
  {
   "cell_type": "code",
   "execution_count": 67,
   "id": "bf70a4ef",
   "metadata": {},
   "outputs": [
    {
     "name": "stdout",
     "output_type": "stream",
     "text": [
      "I remember your name is Mukesh Yadav.\n"
     ]
    }
   ],
   "source": [
    "response = graph.invoke({'messages':\"He do you remember my name\"},config=config)\n",
    "print(response['messages'][-1].content)"
   ]
  },
  {
   "cell_type": "markdown",
   "id": "383c020e",
   "metadata": {},
   "source": [
    "# Streaming"
   ]
  },
  {
   "cell_type": "code",
   "execution_count": 68,
   "id": "b39b4a61",
   "metadata": {},
   "outputs": [],
   "source": [
    "from langgraph.checkpoint.memory import MemorySaver\n",
    "memory = MemorySaver()"
   ]
  },
  {
   "cell_type": "code",
   "execution_count": 69,
   "id": "0a927bba",
   "metadata": {},
   "outputs": [],
   "source": [
    "def superbot(state:State):\n",
    "    return{\"messages\":[llm.invoke(state['messages'])]}"
   ]
  },
  {
   "cell_type": "code",
   "execution_count": 70,
   "id": "856f9d15",
   "metadata": {},
   "outputs": [
    {
     "data": {
      "image/png": "[encoded data removed]",
      "text/plain": [
       "<IPython.core.display.Image object>"
      ]
     },
     "metadata": {},
     "output_type": "display_data"
    }
   ],
   "source": [
    "graph = StateGraph(State)\n",
    "\n",
    "# node\n",
    "graph.add_node(\"SuperBot\",superbot)\n",
    "\n",
    "#Edges\n",
    "\n",
    "graph.add_edge(START,\"SuperBot\")\n",
    "graph.add_edge(\"SuperBot\",END)\n",
    "\n",
    "graph_builder=graph.compile(checkpointer=memory)\n",
    "\n",
    "# Display \n",
    "from IPython.display import Image,display\n",
    "display(Image(graph_builder.get_graph().draw_mermaid_png()))"
   ]
  },
  {
   "cell_type": "code",
   "execution_count": 71,
   "id": "ed1a48ff",
   "metadata": {},
   "outputs": [
    {
     "data": {
      "text/plain": [
       "{'messages': [HumanMessage(content='Hii, My name is Mukesh Yadav and I like to coding', additional_kwargs={}, response_metadata={}, id='58d89555-0af5-4657-82de-7b40b318c004'),\n",
       "  AIMessage(content=\"Hello Mukesh Yadav! Nice to meet you! It's great to hear that you like coding. What kind of programming languages or technologies are you interested in? Are you a beginner or do you have some experience with coding?\", additional_kwargs={}, response_metadata={'token_usage': {'completion_tokens': 47, 'prompt_tokens': 25, 'total_tokens': 72, 'completion_time': 0.142661718, 'prompt_time': 0.009833013, 'queue_time': 0.26648552799999997, 'total_time': 0.152494731}, 'model_name': 'llama3-8b-8192', 'system_fingerprint': 'fp_8dc6ecaf8e', 'finish_reason': 'stop', 'logprobs': None}, id='run--dfe4517b-0396-417c-9e4b-2b17287cc292-0', usage_metadata={'input_tokens': 25, 'output_tokens': 47, 'total_tokens': 72})]}"
      ]
     },
     "execution_count": 71,
     "metadata": {},
     "output_type": "execute_result"
    }
   ],
   "source": [
    "# Invocation\n",
    "\n",
    "config = {\"configurable\": {\"thread_id\":\"1\"}}\n",
    "\n",
    "graph_builder.invoke({'messages':\"Hii, My name is Mukesh Yadav and I like to coding\"},config)"
   ]
  },
  {
   "cell_type": "markdown",
   "id": "1a61c322",
   "metadata": {},
   "source": [
    "Streaming Methods: stream() and astream()\n",
    "\n",
    "These methods are sync methods for streaming back results.\n",
    "Additional parameters in streaming modes for graph state\n",
    "values: This streams the full state of the graph after each mode is called.\n",
    "updates: This streams updates to the state of the graph after each node is called."
   ]
  },
  {
   "cell_type": "code",
   "execution_count": 72,
   "id": "a19474a8",
   "metadata": {},
   "outputs": [
    {
     "name": "stdout",
     "output_type": "stream",
     "text": [
      "{'SuperBot': {'messages': [AIMessage(content=\"That's great! Cricket is a fantastic sport, isn't it? What's your favorite part about playing or watching cricket? Are you a fan of a particular team or player?\", additional_kwargs={}, response_metadata={'token_usage': {'completion_tokens': 37, 'prompt_tokens': 18, 'total_tokens': 55, 'completion_time': 0.025657634, 'prompt_time': 0.002399922, 'queue_time': 0.271196278, 'total_time': 0.028057556}, 'model_name': 'llama3-8b-8192', 'system_fingerprint': 'fp_2717d04279', 'finish_reason': 'stop', 'logprobs': None}, id='run--c5df0eb6-157b-4935-aa74-25bde6156b85-0', usage_metadata={'input_tokens': 18, 'output_tokens': 37, 'total_tokens': 55})]}}\n"
     ]
    }
   ],
   "source": [
    "# Create a thread\n",
    "\n",
    "config = {\"configurable\":{'thread_id':\"3\"}}\n",
    "\n",
    "for chunk in graph_builder.stream({'messages':\" Hi, I also like to play cricket\"},config,stream_mode=\"updates\"):\n",
    "    print(chunk)"
   ]
  }
 ],
 "metadata": {
  "kernelspec": {
   "display_name": ".venv",
   "language": "python",
   "name": "python3"
  },
  "language_info": {
   "codemirror_mode": {
    "name": "ipython",
    "version": 3
   },
   "file_extension": ".py",
   "mimetype": "text/x-python",
   "name": "python",
   "nbconvert_exporter": "python",
   "pygments_lexer": "ipython3",
   "version": "3.11.8"
  }
 },
 "nbformat": 4,
 "nbformat_minor": 5
}
